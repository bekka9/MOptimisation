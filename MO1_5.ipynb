{
  "nbformat": 4,
  "nbformat_minor": 0,
  "metadata": {
    "colab": {
      "provenance": [],
      "authorship_tag": "ABX9TyO5iDUyJchG2FvoLUXgdvms",
      "include_colab_link": true
    },
    "kernelspec": {
      "name": "python3",
      "display_name": "Python 3"
    },
    "language_info": {
      "name": "python"
    }
  },
  "cells": [
    {
      "cell_type": "markdown",
      "metadata": {
        "id": "view-in-github",
        "colab_type": "text"
      },
      "source": [
        "<a href=\"https://colab.research.google.com/github/bekka9/MOptimisation/blob/main/MO1_5.ipynb\" target=\"_parent\"><img src=\"https://colab.research.google.com/assets/colab-badge.svg\" alt=\"Open In Colab\"/></a>"
      ]
    },
    {
      "cell_type": "markdown",
      "source": [
        "\n",
        "студент: Сыдыгалиева Бегаим, 21.Б03-пу\n",
        "\n",
        "список реализованных функций:\n",
        "\n",
        "\n",
        "*   перебор\n",
        "*   дихотомия\n",
        "*   золотое сечение\n",
        "*   метод ньютона\n",
        "*   метод касательных\n",
        "\n",
        "\n"
      ],
      "metadata": {
        "id": "Nn7dMo2kU-SR"
      }
    },
    {
      "cell_type": "code",
      "source": [],
      "metadata": {
        "id": "cNB3C30cVvwF"
      },
      "execution_count": null,
      "outputs": []
    },
    {
      "cell_type": "code",
      "execution_count": null,
      "metadata": {
        "id": "ExIggSB2qCr5"
      },
      "outputs": [],
      "source": [
        "import math as m\n",
        "import pandas as pd\n",
        "import numpy as np\n",
        "from matplotlib import pyplot as plt\n",
        "\n",
        "\n",
        "a = 0\n",
        "b = np.pi\n",
        "eps = 1/(16**4/2)\n",
        "\n",
        "n = m.ceil(abs((b - a)/eps))\n",
        "#h = (b - a)/n\n",
        "h = 1/(16**3*2)\n",
        "k_iter = 0\n",
        "complexity = 0\n",
        "def f(x, complexity):\n",
        "  complexity += 1\n",
        "  return (np.exp(0.6*x) + np.exp(0.1*x) + np.exp(0.11*x) -27* np.sin(x)), complexity\n",
        "def deriv_f(x, complexity):\n",
        "  complexity += 1\n",
        "  return (0.6*np.exp(0.6*x) + 0.1*np.exp(0.1*x) + 0.11*np.exp(0.11*x) -27* np.cos(x)), complexity\n",
        "def deriv2_f(x, complexity):\n",
        "  complexity += 1\n",
        "  return (0.36*np.exp(0.6*x) + 0.01* np.exp(0.1*x) + 0.0121*np.exp(0.11*x) +27*np.sin(x)), complexity\n",
        "def deriv3_f(x):\n",
        "  return 0.216*np.exp(0.6*x) + 0.001*np.exp(0.1*x) + 0.001331*np.exp(0.11*x) +27*np.cos(x)\n",
        "\n"
      ]
    },
    {
      "cell_type": "code",
      "source": [
        "def per(x):\n",
        "  if x=='9':\n",
        "    return 'a'\n",
        "  if x == 'f':\n",
        "    return 'd'\n",
        "  return chr(ord(x) + 1)\n",
        "\n",
        "def ch_ocr(x):\n",
        "  float.hex(x)[:5]+ per(float.hex(x)[5]) + float.hex(x)[-4:]\n",
        "\n",
        "def round_hex(x, to=5):\n",
        "    return x[:5+to] + x[-5:]"
      ],
      "metadata": {
        "id": "Zp0bwLE4u83X"
      },
      "execution_count": null,
      "outputs": []
    },
    {
      "cell_type": "code",
      "source": [
        "def perebor(k_iter):\n",
        "  x = a\n",
        "  y_d = 0\n",
        "  y = 0\n",
        "  min = 1000000\n",
        "  x_min = 0\n",
        "\n",
        "  num_iter = 0\n",
        "  complexity = 0\n",
        "  while(x <= b):\n",
        "    num_iter += 1\n",
        "    x += h\n",
        "    y_d, complexity = f(x, complexity)\n",
        "    y = y_d\n",
        "    if (y < min):\n",
        "       min = y\n",
        "       x_min = x\n",
        "       if ((num_iter % 10 == 0) | (num_iter < 5)):\n",
        "        print(\"№ \", num_iter, \"    x = \", round_hex(float.hex(x)), \"    y = \",round_hex(float.hex(y)), \"    cm = \", complexity)\n",
        "    else:\n",
        "      print(\"№ \", num_iter, \"    x = \", round_hex(float.hex(x_min)), \"    y = \",round_hex(float.hex(min)), \"    cm = \", complexity)\n",
        "      break\n",
        "\n",
        "  print(\"\\n h = \", round_hex(float.hex(h)), \"\\n\")\n",
        "  print(\"x_min = \", round_hex(float.hex(x_min)), \"\\ny_min = \", round_hex(float.hex(min)))\n",
        "  return 0"
      ],
      "metadata": {
        "id": "yALCyJid3MN9"
      },
      "execution_count": null,
      "outputs": []
    },
    {
      "cell_type": "code",
      "source": [
        "def dihotomy(k_iter):\n",
        "  b_ = b\n",
        "  a_ = a\n",
        "  num_iter = 0\n",
        "  complexity = 0\n",
        "  delta = 0.1\n",
        "\n",
        "\n",
        "  true_right = 1\n",
        "  while ((abs(b_ - a_)) > eps):\n",
        "    num_iter += 1\n",
        "    center = (a_ + b_) / 2\n",
        "    f_left, complexity = f(center - delta/2, complexity)\n",
        "    f_right, complexity = f(center + delta/2, complexity)\n",
        "    if (f_left <= f_right):\n",
        "      #b_ = center\n",
        "      print( num_iter, \"   a_= \", round_hex(float(a_).hex()),\"   c-= \",round_hex(float.hex(center-delta/2)),\"   c+= \",round_hex(float(center).hex()), \"  b_= \",round_hex(float(b_).hex()))\n",
        "      print(\"   f_l= \", round_hex(float(f_left).hex()), \"   f_r= \", round_hex(float(f_right).hex()),\"   cm = \", complexity)\n",
        "      b_ = center\n",
        "      true_right = 1\n",
        "      print( num_iter, \"   a_= \", round_hex(float(a_).hex()),  \"  b_= \",round_hex(float(b_).hex()), \"\\n\")\n",
        "    else:\n",
        "\n",
        "      print( num_iter, \"   a_= \", round_hex(float(a_).hex()),\"   c- = \",round_hex(float(center).hex()), \"   c+= \",round_hex(float(center+delta/2).hex()), \"  b_= \",round_hex(float(b_).hex()))\n",
        "      print( \"   f_l= \", round_hex(float(f_left).hex()), \"   f_r= \", round_hex(float(f_right).hex()),  \"   cm = \", complexity, \"\\n\")\n",
        "      a_ = center\n",
        "      true_right = 0\n",
        "      print( num_iter, \"   a_= \", round_hex(float(a_).hex()),  \"  b_= \",round_hex(float(b_).hex()), \"\\n\")\n",
        "\n",
        "    #print(\"№: \", num_iter, \"    a_ = \", round_hex(float(a_).hex()), \"    b_ = \",round_hex(float.hex(b_)),\"    center = \", round_hex(float(center).hex()), \"    center+delta = \",round_hex(float.hex(center+delta/2)),  \"    center-delta = \",round_hex(float.hex(center-delta/2)), \"    complexity = \", complexity)\n",
        "\n",
        "  acc = (b_ - a_)/2\n",
        "  print(\"\\neps = \", round_hex(float.hex(eps)))\n",
        "  print(\"b_ = \", round_hex(float.hex(b_)), \"   a_ = \", round_hex(float.hex(a_)), \"  acc = \", round_hex(float.hex(acc)), \"\\n\")\n",
        "  if (true_right):\n",
        "    print(\"истина справа\")\n",
        "  else:\n",
        "    print(\"истина слева\")\n",
        "  answ, complexity = f((a_ + b_)/2, complexity)\n",
        "\n",
        "  print(\"x_min = \", round_hex(float.hex((a_ + b_)/2)), \"\\ny_min = \", round_hex(float.hex(answ)))\n",
        "  return"
      ],
      "metadata": {
        "id": "HGbGxChfAzIC"
      },
      "execution_count": null,
      "outputs": []
    },
    {
      "cell_type": "code",
      "source": [
        "phi = (1 + m.sqrt(5))/2\n",
        "\n",
        "def gold_ratio(k_iter):\n",
        "  b_ = b\n",
        "  a_ = a\n",
        "  x1 = b_ - (b_ - a_)/phi\n",
        "  x2 = a_ + (b_ - a_)/phi\n",
        "  num_iter = 1\n",
        "  complexity = 0\n",
        "  f_1, complexity = f(x1,complexity)\n",
        "  f_2, complexity = f(x2,complexity)\n",
        "  print(num_iter, \"   a_= \", round_hex(float(a_).hex()), \"   x1= \", round_hex(float.hex(x1)), \"   x2= \",round_hex(float.hex(x2)), \"   b_= \",round_hex(float.hex(b_)))\n",
        "  print(\"   f(x1)= \", round_hex(float.hex(f_1)), \"   f(x2)= \",round_hex(float.hex(f_2)), \"   cm= \", complexity, \"\\n\")\n",
        "  true_right = 1\n",
        "  while ((b_ - a_)/2 >= eps):\n",
        "    num_iter += 1\n",
        "    #complexity = 0\n",
        "    plech = 0\n",
        "\n",
        "    if (f_1 >= f_2):\n",
        "      a_ = x1\n",
        "      x1 = x2\n",
        "\n",
        "      x2 = b_ - (x1 - a_)\n",
        "      f_1 = f_2\n",
        "      f_2, complexity = f(x2,complexity)\n",
        "      true_right = 0\n",
        "    else:\n",
        "      b_ = x2\n",
        "      x2 = x1\n",
        "      x1 = a_ + (b_ - x2)\n",
        "      f_2 = f_1\n",
        "      f_1, complexity = f(x1,complexity)\n",
        "      true_right = 1\n",
        "    plech1 = b - x1\n",
        "    plech2 = x1 - a\n",
        "    plech = max(plech1, plech2)\n",
        "    print(num_iter, \"  a_= \", round_hex(float(a_).hex()), \"   x1= \", round_hex(float.hex(x1)), \"   x2= \",round_hex(float.hex(x2)), \"   b_= \",round_hex(float.hex(b_)))\n",
        "    print(\"   f(x1)= \", round_hex(float.hex(f_1)), \"   f(x2)= \",round_hex(float.hex(f_2)), \"   cm= \", complexity)\n",
        "    print(\"\\n\")\n",
        "\n",
        "  acc = (b_ - a_)/2\n",
        "  print(\"    a_ = \", round_hex(float.hex(a_)), \"    b_ = \", round_hex(float.hex(b_)), \"  acc = \", round_hex(float.hex(acc)), \"\\n\")\n",
        "  answ, complexity = f((a_ + b_)/2, complexity)\n",
        "  if (true_right):\n",
        "    print(\"истина справа\")\n",
        "  else:\n",
        "    print(\"истина слева\")\n",
        "  print(\"x_min = \", round_hex(float.hex((a_ + b_)/2)), \"\\ny_min = \", round_hex(float.hex(answ)))\n",
        "  return 0"
      ],
      "metadata": {
        "id": "diek9FIDeMA6"
      },
      "execution_count": null,
      "outputs": []
    },
    {
      "cell_type": "code",
      "source": [
        "def kas(k_iter):\n",
        "  a_ = a\n",
        "  b_ = b\n",
        "  complexity_f = 0\n",
        "  complexity_df = 0\n",
        "\n",
        "  df_b, complexity_df = deriv_f(b_, complexity_df)\n",
        "  f_b, complexity_f = f(b_, complexity_f)\n",
        "  df_a, complexity_df = deriv_f(a_, complexity_df)\n",
        "  f_a, complexity_f = f(a_, complexity_f)\n",
        "\n",
        "  x_new = (df_b * b_ - f_b - (df_a* a_ - f_a)) / (df_b - df_a)\n",
        "  num_iter = 1\n",
        "  df_new, complexity_df = deriv_f(x_new, complexity_df)\n",
        "  print(\"№\", \"    a_     \", \"    b_  \", \"    f_a   \", \"    f_b  \", \"    df(a) = \", \"    df(b)   \", \"    cm_f   \", \"    cm_df   \")\n",
        "\n",
        "  print(num_iter, \"   \", round_hex(float(a_).hex()), \"    \",round_hex(float.hex(b_)), \"    \", round_hex(float.hex(df_a)), \"    \",round_hex(float.hex(df_b)),\"     \", round_hex(float.hex(df_a)), \"     \",round_hex(float.hex(df_b)), \"     \", complexity_f, \"     \", complexity_df, \"\\n\")\n",
        "\n",
        "  while(abs(df_new)>= eps):\n",
        "    num_iter += 1\n",
        "    complexity_f = 0\n",
        "    complexity_df = 0\n",
        "\n",
        "    df_b, complexity_df = deriv_f(b_, complexity_df)\n",
        "    f_b, complexity_f = f(b_, complexity_f)\n",
        "    df_a, complexity_df = deriv_f(a_, complexity_df)\n",
        "    f_a, complexity_f = f(a_, complexity_f)\n",
        "    x_new = (df_b * b_ - f_b - (df_a * a_ - f_a)) / (df_b - df_a)\n",
        "    #u = f(a_) + deriv_f(a_)*(x_new - a_)\n",
        "    df_new, complexity_df = deriv_f(x_new, complexity_df)\n",
        "    if (df_new > 0):\n",
        "      b_ = x_new\n",
        "    else:\n",
        "      a_ = x_new\n",
        "    print(num_iter, \"    a_ = \", round_hex(float(a_).hex()), \"    b_ = \",round_hex(float.hex(b_)), \"    f_a = \", round_hex(float.hex(df_a)), \"    f_b = \",round_hex(float.hex(df_b)))\n",
        "    print(\"    df(a) = \", round_hex(float.hex(df_a)), \"    df(b) = \",round_hex(float.hex(df_b)), \"    cm_f = \", complexity_f, \"    cm_df = \", complexity_df, \"\\n\")\n",
        "  print(\"истина слева\")\n",
        "  answ, complexity_f = f(x_new, complexity_f)\n",
        "  print(\"x_min = \", float.hex(x_new), \"\\ny_min = \", round_hex(float.hex(answ)))\n",
        "  print(float.hex(b_- x_new))\n",
        "\n",
        "  return 0\n"
      ],
      "metadata": {
        "id": "A4Os0tU4vtg-"
      },
      "execution_count": null,
      "outputs": []
    },
    {
      "cell_type": "code",
      "source": [
        "def newton(k_iter):\n",
        "    first_otr = 0\n",
        "    x = a\n",
        "    x_new = 0\n",
        "    #последовательный перебор для определения начального интервала\n",
        "    k = 10;\n",
        "    a_ = a\n",
        "    b_ = b\n",
        "    complexity_f = 0\n",
        "    complexity_df = 0\n",
        "    complexity_d2f = 0\n",
        "    d_f, complexity_df = deriv_f(x, complexity_df)\n",
        "    i = 6\n",
        "    while (first_otr == 0):\n",
        "         while (i < k):\n",
        "            x_new = a_ + i * (b_ - a_) / k\n",
        "            d_f_new, complexity_df = deriv_f(x_new, complexity_df)\n",
        "            if (d_f * d_f_new < 0):\n",
        "                a_ = x\n",
        "                b_ = x_new\n",
        "                first_otr = 1\n",
        "            else:\n",
        "              x = x_new\n",
        "              d_f, complexity_df = deriv_f(x, complexity_df)\n",
        "            i += 1\n",
        "         k *= 2\n",
        "\n",
        "    #метод ньютона в связке с методом половинного деления для уточнения корня на выбранном интервале локализации\n",
        "    delta = 1;\n",
        "    x = 2\n",
        "    d_f, complexity_df = deriv_f(x, complexity_df)\n",
        "    d2_f, complexity_d2f = deriv2_f(x, complexity_d2f)\n",
        "    x_new = x - d_f / d2_f\n",
        "    df_new, complexity_df = deriv_f(x_new, complexity_df)\n",
        "\n",
        "\n",
        "    if ((x_new >= a_) & (x_new <= b_)):\n",
        "        if (df_new < 0):\n",
        "          a_ = df_new\n",
        "        else:\n",
        "          b_ = df_new\n",
        "\n",
        "    else:\n",
        "        x_new = (a_ + b_) / 2\n",
        "        if (df_new < 0):\n",
        "          a_, complexity_f = deriv_f(x_new, complexity_f)\n",
        "        else:\n",
        "          b_, complexity_f = deriv_f(x_new, complexity_f)\n",
        "    d2_f, complexity_d2f = deriv2_f(x_new, complexity_d2f)\n",
        "    num_iter = 0\n",
        "    print( \"№ \", \"    x     \", \"      df      \", \"    d2f     \", \"    cm_df  \", \"    cm_d2f    \", \"\\n\")\n",
        "    #print( num_iter, \"  \", round_hex(float(x_new).hex()),\"    \",round_hex(float(a_).hex()),\"    \",round_hex(float(d2_f).hex()), \"    \", complexity_df, \"    \", complexity_d2f, \"\\n\")\n",
        "\n",
        "    #print(num_iter, \"    x = \", round_hex(float(x).hex()), \"    x_new = \",round_hex(float(x_new).hex()))\n",
        "    #print( \"    cm_f = \", complexity_f, \"    cm_df = \", complexity_df, \"    cm_d2f = \", complexity_d2f, \"\\n\")\n",
        "    L = (0.6**2 + 0.10**2 + 0.11**2)\n",
        "    #complexity_f = 0\n",
        "    #complexity_df = 0\n",
        "    #complexity_d2f = 0\n",
        "\n",
        "    while (delta >= eps):\n",
        "        num_iter += 1\n",
        "        #complexity_f = 0\n",
        "        #complexity_df = 0\n",
        "        #complexity_d2f = 0\n",
        "        df, complexity_df = deriv_f(x, complexity_df)\n",
        "        d2f, complexity_d2f = deriv2_f(x, complexity_d2f)\n",
        "        x_new = x - df / d2f\n",
        "        delta = abs(x_new - x)\n",
        "        delta = df/L\n",
        "\n",
        "        #print( \"№ \", \"    x     \", \"              df      \", \"             d2f     \", \"             cm_df  \", \"    cm_d2f    \", \"\\n\")\n",
        "        print( num_iter, \"  \", round_hex(float(x).hex()),\"    \",round_hex(float(df).hex()),\"    \",round_hex(float(d2f).hex()), \"    \", complexity_df, \"    \", complexity_d2f, \"\\n\")\n",
        "        x = x_new;\n",
        "    df, complexity_df = deriv_f(x, complexity_df)\n",
        "    d2f, complexity_d2f = deriv2_f(x, complexity_d2f)\n",
        "    print( \"№2    \", round_hex(float(x).hex()),\"    \",round_hex(float(df).hex()),\"    \",round_hex(float(d2f).hex()), \"    \", complexity_df, \"    \", complexity_d2f, \"\\n\")\n",
        "\n",
        "    answ, complexity_f = f(x, complexity_f)\n",
        "    print(\"x_min = \", round_hex(float.hex(x)), \"\\ny_min:\", round_hex(float.hex(answ)))\n",
        "    return 0\n",
        "\n"
      ],
      "metadata": {
        "id": "nSYWBXrk2mn_"
      },
      "execution_count": null,
      "outputs": []
    },
    {
      "cell_type": "code",
      "source": [],
      "metadata": {
        "id": "M3DWgg68H9_H"
      },
      "execution_count": null,
      "outputs": []
    },
    {
      "cell_type": "code",
      "source": [
        "k_iter = 0\n",
        "perebor(k_iter)"
      ],
      "metadata": {
        "id": "FniuH57cUvzy"
      },
      "execution_count": null,
      "outputs": []
    },
    {
      "cell_type": "code",
      "source": [
        "print(float.hex(h))"
      ],
      "metadata": {
        "colab": {
          "base_uri": "https://localhost:8080/"
        },
        "id": "_5TXCYTfRBfN",
        "outputId": "e61c64c8-8a30-41fd-a240-fe0a1fd73ac1"
      },
      "execution_count": null,
      "outputs": [
        {
          "output_type": "stream",
          "name": "stdout",
          "text": [
            "0x1.0000000000000p-13\n"
          ]
        }
      ]
    },
    {
      "cell_type": "code",
      "source": [
        "k_iter = 0\n",
        "dihotomy(k_iter)"
      ],
      "metadata": {
        "id": "myVJ2sCggpSj"
      },
      "execution_count": null,
      "outputs": []
    },
    {
      "cell_type": "code",
      "source": [
        "k_iter = 0\n",
        "gold_ratio(k_iter)"
      ],
      "metadata": {
        "id": "EWsYlJs62eqj"
      },
      "execution_count": null,
      "outputs": []
    },
    {
      "cell_type": "code",
      "source": [
        "float.hex(eps)"
      ],
      "metadata": {
        "colab": {
          "base_uri": "https://localhost:8080/",
          "height": 35
        },
        "id": "LHTVdOURRHnY",
        "outputId": "3a630415-fb57-4a9b-fa86-dab33e35e363"
      },
      "execution_count": null,
      "outputs": [
        {
          "output_type": "execute_result",
          "data": {
            "text/plain": [
              "'0x1.0000000000000p-15'"
            ],
            "application/vnd.google.colaboratory.intrinsic+json": {
              "type": "string"
            }
          },
          "metadata": {},
          "execution_count": 184
        }
      ]
    },
    {
      "cell_type": "code",
      "source": [
        "k_iter = 0\n",
        "newton(k_iter)"
      ],
      "metadata": {
        "colab": {
          "base_uri": "https://localhost:8080/"
        },
        "id": "6vbB_Ji1YqDx",
        "outputId": "1025d8f2-3b51-45de-e16d-c3d04adee9a3"
      },
      "execution_count": null,
      "outputs": [
        {
          "output_type": "stream",
          "name": "stdout",
          "text": [
            "№      x            df           d2f          cm_df       cm_d2f     \n",
            "\n",
            "1    0x1.00000000p+1      0x1.af977fd4p+3      0x1.9c6084f8p+4      10      3 \n",
            "\n",
            "2    0x1.7a092be1p+0      -0x1.ac220c0p-1      0x1.bc790e8fp+4      11      4 \n",
            "\n",
            "№2     0x1.81bde15dp+0      0x1.4c23ea0p-10      0x1.bdc16be3p+4      12      5 \n",
            "\n",
            "x_min =  0x1.81bde15dp+0 \n",
            "y_min: -0x1.621d572p+4\n"
          ]
        },
        {
          "output_type": "execute_result",
          "data": {
            "text/plain": [
              "0"
            ]
          },
          "metadata": {},
          "execution_count": 63
        }
      ]
    },
    {
      "cell_type": "code",
      "source": [
        "k_iter = 0\n",
        "kas(k_iter)"
      ],
      "metadata": {
        "id": "OTGBezlmZH_f",
        "colab": {
          "base_uri": "https://localhost:8080/"
        },
        "outputId": "b9cb706b-e0b9-41f0-a873-366edc6b0ed7"
      },
      "execution_count": null,
      "outputs": [
        {
          "output_type": "stream",
          "name": "stdout",
          "text": [
            "№     a_          b_       f_a        f_b       df(a) =      df(b)        cm_f        cm_df   \n",
            "1     0x0.0p+0.0p+0      0x1.921fb518p+1      -0x1.a30a371p+4      0x1.f3e73e70p+4       -0x1.a30a371p+4       0x1.f3e73e70p+4       2       3 \n",
            "\n",
            "2     a_ =  0x0.0p+0.0p+0     b_ =  0x1.99200e83p+0     f_a =  -0x1.a30a371p+4     f_b =  0x1.f3e73e70p+4\n",
            "    df(a) =  -0x1.a30a371p+4     df(b) =  0x1.f3e73e70p+4     cm_f =  2     cm_df =  3 \n",
            "\n",
            "3     a_ =  0x1.0322ebdep+0     b_ =  0x1.99200e83p+0     f_a =  -0x1.a30a371p+4     f_b =  0x1.46aa7d82p+1\n",
            "    df(a) =  -0x1.a30a371p+4     df(b) =  0x1.46aa7d82p+1     cm_f =  2     cm_df =  3 \n",
            "\n",
            "4     a_ =  0x1.503450f0p+0     b_ =  0x1.99200e83p+0     f_a =  -0x1.9f29272p+3     f_b =  0x1.46aa7d82p+1\n",
            "    df(a) =  -0x1.9f29272p+3     df(b) =  0x1.46aa7d82p+1     cm_f =  2     cm_df =  3 \n",
            "\n",
            "5     a_ =  0x1.74e42bfdp+0     b_ =  0x1.99200e83p+0     f_a =  -0x1.542f11ep+2     f_b =  0x1.46aa7d82p+1\n",
            "    df(a) =  -0x1.542f11ep+2     df(b) =  0x1.46aa7d82p+1     cm_f =  2     cm_df =  3 \n",
            "\n",
            "6     a_ =  0x1.74e42bfdp+0     b_ =  0x1.8708d73bp+0     f_a =  -0x1.64cfc50p+0     f_b =  0x1.46aa7d82p+1\n",
            "    df(a) =  -0x1.64cfc50p+0     df(b) =  0x1.46aa7d82p+1     cm_f =  2     cm_df =  3 \n",
            "\n",
            "7     a_ =  0x1.7df91ffep+0     b_ =  0x1.8708d73bp+0     f_a =  -0x1.64cfc50p+0     f_b =  0x1.27c9e788p-1\n",
            "    df(a) =  -0x1.64cfc50p+0     df(b) =  0x1.27c9e788p-1     cm_f =  2     cm_df =  3 \n",
            "\n",
            "8     a_ =  0x1.7df91ffep+0     b_ =  0x1.828184a8p+0     f_a =  -0x1.a2675a8p-2     f_b =  0x1.27c9e788p-1\n",
            "    df(a) =  -0x1.a2675a8p-2     df(b) =  0x1.27c9e788p-1     cm_f =  2     cm_df =  3 \n",
            "\n",
            "9     a_ =  0x1.803d7843p+0     b_ =  0x1.828184a8p+0     f_a =  -0x1.a2675a8p-2     f_b =  0x1.59e17770p-4\n",
            "    df(a) =  -0x1.a2675a8p-2     df(b) =  0x1.59e17770p-4     cm_f =  2     cm_df =  3 \n",
            "\n",
            "10     a_ =  0x1.815f8783p+0     b_ =  0x1.828184a8p+0     f_a =  -0x1.4bff8b8p-3     f_b =  0x1.59e17770p-4\n",
            "    df(a) =  -0x1.4bff8b8p-3     df(b) =  0x1.59e17770p-4     cm_f =  2     cm_df =  3 \n",
            "\n",
            "11     a_ =  0x1.815f8783p+0     b_ =  0x1.81f08803p+0     f_a =  -0x1.3e2d5a0p-5     f_b =  0x1.59e17770p-4\n",
            "    df(a) =  -0x1.3e2d5a0p-5     df(b) =  0x1.59e17770p-4     cm_f =  2     cm_df =  3 \n",
            "\n",
            "12     a_ =  0x1.81a80813p+0     b_ =  0x1.81f08803p+0     f_a =  -0x1.3e2d5a0p-5     f_b =  0x1.758df080p-6\n",
            "    df(a) =  -0x1.3e2d5a0p-5     df(b) =  0x1.758df080p-6     cm_f =  2     cm_df =  3 \n",
            "\n",
            "13     a_ =  0x1.81a80813p+0     b_ =  0x1.81cc4859p+0     f_a =  -0x1.06d0900p-7     f_b =  0x1.758df080p-6\n",
            "    df(a) =  -0x1.06d0900p-7     df(b) =  0x1.758df080p-6     cm_f =  2     cm_df =  3 \n",
            "\n",
            "14     a_ =  0x1.81ba2843p+0     b_ =  0x1.81cc4859p+0     f_a =  -0x1.06d0900p-7     f_b =  0x1.e4495b00p-8\n",
            "    df(a) =  -0x1.06d0900p-7     df(b) =  0x1.e4495b00p-8     cm_f =  2     cm_df =  3 \n",
            "\n",
            "15     a_ =  0x1.81ba2843p+0     b_ =  0x1.81c33894p+0     f_a =  -0x1.4ac650p-12     f_b =  0x1.e4495b00p-8\n",
            "    df(a) =  -0x1.4ac650p-12     df(b) =  0x1.e4495b00p-8     cm_f =  2     cm_df =  3 \n",
            "\n",
            "16     a_ =  0x1.81ba2843p+0     b_ =  0x1.81beb094p+0     f_a =  -0x1.4ac650p-12     f_b =  0x1.cf9cb700p-9\n",
            "    df(a) =  -0x1.4ac650p-12     df(b) =  0x1.cf9cb700p-9     cm_f =  2     cm_df =  3 \n",
            "\n",
            "17     a_ =  0x1.81ba2843p+0     b_ =  0x1.81bc6cecp+0     f_a =  -0x1.4ac650p-12     f_b =  0x1.a643cc0p-10\n",
            "    df(a) =  -0x1.4ac650p-12     df(b) =  0x1.a643cc0p-10     cm_f =  2     cm_df =  3 \n",
            "\n",
            "18     a_ =  0x1.81ba2843p+0     b_ =  0x1.81bb4a8ap+0     f_a =  -0x1.4ac650p-12     f_b =  0x1.5392260p-11\n",
            "    df(a) =  -0x1.4ac650p-12     df(b) =  0x1.5392260p-11     cm_f =  2     cm_df =  3 \n",
            "\n",
            "19     a_ =  0x1.81bab976p+0     b_ =  0x1.81bb4a8ap+0     f_a =  -0x1.4ac650p-12     f_b =  0x1.5c5de40p-13\n",
            "    df(a) =  -0x1.4ac650p-12     df(b) =  0x1.5c5de40p-13     cm_f =  2     cm_df =  3 \n",
            "\n",
            "20     a_ =  0x1.81bab976p+0     b_ =  0x1.81bb026cp+0     f_a =  -0x1.392f00p-14     f_b =  0x1.5c5de40p-13\n",
            "    df(a) =  -0x1.392f00p-14     df(b) =  0x1.5c5de40p-13     cm_f =  2     cm_df =  3 \n",
            "\n",
            "21     a_ =  0x1.81badd60p+0     b_ =  0x1.81bb026cp+0     f_a =  -0x1.392f00p-14     f_b =  0x1.7f8ca70p-15\n",
            "    df(a) =  -0x1.392f00p-14     df(b) =  0x1.7f8ca70p-15     cm_f =  2     cm_df =  3 \n",
            "\n",
            "истина слева\n",
            "x_min =  0x1.81baddec56160p+0 \n",
            "y_min =  -0x1.621d540p+4\n",
            "0x1.2200bb0600000p-19\n"
          ]
        },
        {
          "output_type": "execute_result",
          "data": {
            "text/plain": [
              "0"
            ]
          },
          "metadata": {},
          "execution_count": 10
        }
      ]
    }
  ]
}